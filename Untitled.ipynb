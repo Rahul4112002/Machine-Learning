{
 "cells": [
  {
   "cell_type": "code",
   "execution_count": 1,
   "id": "5c010c21",
   "metadata": {},
   "outputs": [],
   "source": [
    "import pandas as pd\n",
    "\n",
    "# Load the datasets\n",
    "movies = pd.read_csv('movies.csv')\n",
    "ratings = pd.read_csv('ratings.csv')\n",
    "links = pd.read_csv('links.csv')\n",
    "tags = pd.read_csv('tags.csv')\n"
   ]
  },
  {
   "cell_type": "code",
   "execution_count": 2,
   "id": "99a8fab9",
   "metadata": {},
   "outputs": [
    {
     "name": "stdout",
     "output_type": "stream",
     "text": [
      "Number of CSV files: 4\n"
     ]
    }
   ],
   "source": [
    "# Check the number of .csv files\n",
    "csv_files = ['movies.csv', 'ratings.csv', 'links.csv', 'tags.csv']\n",
    "print(f'Number of CSV files: {len(csv_files)}')"
   ]
  },
  {
   "cell_type": "code",
   "execution_count": 3,
   "id": "3e93c39c",
   "metadata": {},
   "outputs": [
    {
     "name": "stdout",
     "output_type": "stream",
     "text": [
      "Shape of movies.csv: (9742, 3)\n",
      "Shape of ratings.csv: (100836, 4)\n"
     ]
    }
   ],
   "source": [
    "# Check the shape of the datasets\n",
    "print(f'Shape of movies.csv: {movies.shape}')\n",
    "print(f'Shape of ratings.csv: {ratings.shape}')"
   ]
  },
  {
   "cell_type": "code",
   "execution_count": 4,
   "id": "9ede203e",
   "metadata": {},
   "outputs": [
    {
     "name": "stdout",
     "output_type": "stream",
     "text": [
      "Number of unique userId: 610\n"
     ]
    }
   ],
   "source": [
    "unique_users = ratings['userId'].nunique()\n",
    "print(f'Number of unique userId: {unique_users}')\n"
   ]
  },
  {
   "cell_type": "code",
   "execution_count": 5,
   "id": "a564c8fe",
   "metadata": {},
   "outputs": [
    {
     "name": "stdout",
     "output_type": "stream",
     "text": [
      "Movie with maximum number of user ratings: Forrest Gump (1994)\n"
     ]
    }
   ],
   "source": [
    "ratings_count = ratings.groupby('movieId').size().reset_index(name='counts')\n",
    "max_ratings_movie = ratings_count[ratings_count['counts'] == ratings_count['counts'].max()]\n",
    "max_ratings_movie_id = max_ratings_movie['movieId'].values[0]\n",
    "\n",
    "# Merge with movies to get the name of the movie\n",
    "max_rated_movie = movies[movies['movieId'] == max_ratings_movie_id]['title'].values[0]\n",
    "print(f'Movie with maximum number of user ratings: {max_rated_movie}')\n"
   ]
  },
  {
   "cell_type": "code",
   "execution_count": 6,
   "id": "34dc015d",
   "metadata": {},
   "outputs": [
    {
     "name": "stdout",
     "output_type": "stream",
     "text": [
      "Tags for Matrix, The (1999): ['martial arts' 'sci-fi' 'alternate universe' 'philosophy'\n",
      " 'post apocalyptic']\n"
     ]
    }
   ],
   "source": [
    "matrix_movie_id = movies[movies['title'].str.contains('Matrix, The')]['movieId'].values[0]\n",
    "matrix_tags = tags[tags['movieId'] == matrix_movie_id]['tag'].unique()\n",
    "print(f'Tags for Matrix, The (1999): {matrix_tags}')\n"
   ]
  },
  {
   "cell_type": "code",
   "execution_count": 7,
   "id": "4256211a",
   "metadata": {},
   "outputs": [
    {
     "name": "stdout",
     "output_type": "stream",
     "text": [
      "Average rating for Terminator 2: Judgment Day (1991): 3.970982142857143\n"
     ]
    }
   ],
   "source": [
    "t2_movie_id = movies[movies['title'].str.contains('Terminator 2')]['movieId'].values[0]\n",
    "t2_ratings = ratings[ratings['movieId'] == t2_movie_id]['rating'].mean()\n",
    "print(f'Average rating for Terminator 2: Judgment Day (1991): {t2_ratings}')\n"
   ]
  },
  {
   "cell_type": "code",
   "execution_count": 8,
   "id": "97a773a1",
   "metadata": {},
   "outputs": [
    {
     "data": {
      "image/png": "[encoded data removed]",
      "text/plain": [
       "<Figure size 640x480 with 1 Axes>"
      ]
     },
     "metadata": {},
     "output_type": "display_data"
    }
   ],
   "source": [
    "fight_club_id = movies[movies['title'].str.contains('Fight Club')]['movieId'].values[0]\n",
    "fight_club_ratings = ratings[ratings['movieId'] == fight_club_id]['rating']\n",
    "fight_club_distribution = fight_club_ratings.plot.hist(bins=10).get_figure()\n",
    "fight_club_distribution.savefig('fight_club_distribution.png')\n"
   ]
  },
  {
   "cell_type": "code",
   "execution_count": 9,
   "id": "04599b32",
   "metadata": {},
   "outputs": [],
   "source": [
    "# Group by movieId and apply aggregation (count and mean)\n",
    "grouped_ratings = ratings.groupby('movieId').agg({'rating': ['count', 'mean']})\n",
    "grouped_ratings.columns = ['count', 'mean_rating']\n",
    "\n",
    "# Filter movies with more than 50 ratings\n",
    "filtered_movies = grouped_ratings[grouped_ratings['count'] > 50]\n",
    "\n",
    "# Merge with movies dataset\n",
    "popular_movies = pd.merge(filtered_movies, movies, on='movieId')\n"
   ]
  },
  {
   "cell_type": "code",
   "execution_count": 10,
   "id": "d0cefdd6",
   "metadata": {},
   "outputs": [
    {
     "name": "stdout",
     "output_type": "stream",
     "text": [
      "Most popular movie based on average user ratings: Shawshank Redemption, The (1994)\n"
     ]
    }
   ],
   "source": [
    "most_popular_movie = popular_movies[popular_movies['mean_rating'] == popular_movies['mean_rating'].max()]\n",
    "print(f'Most popular movie based on average user ratings: {most_popular_movie[\"title\"].values[0]}')\n"
   ]
  },
  {
   "cell_type": "code",
   "execution_count": 11,
   "id": "8bb337f7",
   "metadata": {},
   "outputs": [
    {
     "name": "stdout",
     "output_type": "stream",
     "text": [
      "Top 5 popular movies based on the number of user ratings:\n",
      "                                title  count\n",
      "61                Forrest Gump (1994)    329\n",
      "53   Shawshank Redemption, The (1994)    317\n",
      "49                Pulp Fiction (1994)    307\n",
      "99   Silence of the Lambs, The (1991)    279\n",
      "248                Matrix, The (1999)    278\n"
     ]
    }
   ],
   "source": [
    "top_5_movies = popular_movies.sort_values(by='count', ascending=False).head(5)\n",
    "print('Top 5 popular movies based on the number of user ratings:')\n",
    "print(top_5_movies[['title', 'count']])\n"
   ]
  },
  {
   "cell_type": "code",
   "execution_count": 12,
   "id": "57eb1474",
   "metadata": {},
   "outputs": [
    {
     "ename": "IndexError",
     "evalue": "single positional indexer is out-of-bounds",
     "output_type": "error",
     "traceback": [
      "\u001b[1;31m---------------------------------------------------------------------------\u001b[0m",
      "\u001b[1;31mIndexError\u001b[0m                                Traceback (most recent call last)",
      "Cell \u001b[1;32mIn [12], line 3\u001b[0m\n\u001b[0;32m      1\u001b[0m \u001b[38;5;66;03m# Filter Sci-Fi movies\u001b[39;00m\n\u001b[0;32m      2\u001b[0m sci_fi_movies \u001b[38;5;241m=\u001b[39m popular_movies[popular_movies[\u001b[38;5;124m'\u001b[39m\u001b[38;5;124mtitle\u001b[39m\u001b[38;5;124m'\u001b[39m]\u001b[38;5;241m.\u001b[39mstr\u001b[38;5;241m.\u001b[39mcontains(\u001b[38;5;124m'\u001b[39m\u001b[38;5;124mSci-Fi\u001b[39m\u001b[38;5;124m'\u001b[39m)]\n\u001b[1;32m----> 3\u001b[0m third_most_popular_sci_fi \u001b[38;5;241m=\u001b[39m \u001b[43msci_fi_movies\u001b[49m\u001b[38;5;241;43m.\u001b[39;49m\u001b[43msort_values\u001b[49m\u001b[43m(\u001b[49m\u001b[43mby\u001b[49m\u001b[38;5;241;43m=\u001b[39;49m\u001b[38;5;124;43m'\u001b[39;49m\u001b[38;5;124;43mcount\u001b[39;49m\u001b[38;5;124;43m'\u001b[39;49m\u001b[43m,\u001b[49m\u001b[43m \u001b[49m\u001b[43mascending\u001b[49m\u001b[38;5;241;43m=\u001b[39;49m\u001b[38;5;28;43;01mFalse\u001b[39;49;00m\u001b[43m)\u001b[49m\u001b[38;5;241;43m.\u001b[39;49m\u001b[43miloc\u001b[49m\u001b[43m[\u001b[49m\u001b[38;5;241;43m2\u001b[39;49m\u001b[43m]\u001b[49m\n\u001b[0;32m      4\u001b[0m \u001b[38;5;28mprint\u001b[39m(\u001b[38;5;124mf\u001b[39m\u001b[38;5;124m'\u001b[39m\u001b[38;5;124mThird most popular Sci-Fi movie: \u001b[39m\u001b[38;5;132;01m{\u001b[39;00mthird_most_popular_sci_fi[\u001b[38;5;124m\"\u001b[39m\u001b[38;5;124mtitle\u001b[39m\u001b[38;5;124m\"\u001b[39m]\u001b[38;5;132;01m}\u001b[39;00m\u001b[38;5;124m'\u001b[39m)\n",
      "File \u001b[1;32m~\\AppData\\Local\\Programs\\Python\\Python310\\lib\\site-packages\\pandas\\core\\indexing.py:1103\u001b[0m, in \u001b[0;36m_LocationIndexer.__getitem__\u001b[1;34m(self, key)\u001b[0m\n\u001b[0;32m   1100\u001b[0m axis \u001b[38;5;241m=\u001b[39m \u001b[38;5;28mself\u001b[39m\u001b[38;5;241m.\u001b[39maxis \u001b[38;5;129;01mor\u001b[39;00m \u001b[38;5;241m0\u001b[39m\n\u001b[0;32m   1102\u001b[0m maybe_callable \u001b[38;5;241m=\u001b[39m com\u001b[38;5;241m.\u001b[39mapply_if_callable(key, \u001b[38;5;28mself\u001b[39m\u001b[38;5;241m.\u001b[39mobj)\n\u001b[1;32m-> 1103\u001b[0m \u001b[38;5;28;01mreturn\u001b[39;00m \u001b[38;5;28;43mself\u001b[39;49m\u001b[38;5;241;43m.\u001b[39;49m\u001b[43m_getitem_axis\u001b[49m\u001b[43m(\u001b[49m\u001b[43mmaybe_callable\u001b[49m\u001b[43m,\u001b[49m\u001b[43m \u001b[49m\u001b[43maxis\u001b[49m\u001b[38;5;241;43m=\u001b[39;49m\u001b[43maxis\u001b[49m\u001b[43m)\u001b[49m\n",
      "File \u001b[1;32m~\\AppData\\Local\\Programs\\Python\\Python310\\lib\\site-packages\\pandas\\core\\indexing.py:1656\u001b[0m, in \u001b[0;36m_iLocIndexer._getitem_axis\u001b[1;34m(self, key, axis)\u001b[0m\n\u001b[0;32m   1653\u001b[0m     \u001b[38;5;28;01mraise\u001b[39;00m \u001b[38;5;167;01mTypeError\u001b[39;00m(\u001b[38;5;124m\"\u001b[39m\u001b[38;5;124mCannot index by location index with a non-integer key\u001b[39m\u001b[38;5;124m\"\u001b[39m)\n\u001b[0;32m   1655\u001b[0m \u001b[38;5;66;03m# validate the location\u001b[39;00m\n\u001b[1;32m-> 1656\u001b[0m \u001b[38;5;28;43mself\u001b[39;49m\u001b[38;5;241;43m.\u001b[39;49m\u001b[43m_validate_integer\u001b[49m\u001b[43m(\u001b[49m\u001b[43mkey\u001b[49m\u001b[43m,\u001b[49m\u001b[43m \u001b[49m\u001b[43maxis\u001b[49m\u001b[43m)\u001b[49m\n\u001b[0;32m   1658\u001b[0m \u001b[38;5;28;01mreturn\u001b[39;00m \u001b[38;5;28mself\u001b[39m\u001b[38;5;241m.\u001b[39mobj\u001b[38;5;241m.\u001b[39m_ixs(key, axis\u001b[38;5;241m=\u001b[39maxis)\n",
      "File \u001b[1;32m~\\AppData\\Local\\Programs\\Python\\Python310\\lib\\site-packages\\pandas\\core\\indexing.py:1589\u001b[0m, in \u001b[0;36m_iLocIndexer._validate_integer\u001b[1;34m(self, key, axis)\u001b[0m\n\u001b[0;32m   1587\u001b[0m len_axis \u001b[38;5;241m=\u001b[39m \u001b[38;5;28mlen\u001b[39m(\u001b[38;5;28mself\u001b[39m\u001b[38;5;241m.\u001b[39mobj\u001b[38;5;241m.\u001b[39m_get_axis(axis))\n\u001b[0;32m   1588\u001b[0m \u001b[38;5;28;01mif\u001b[39;00m key \u001b[38;5;241m>\u001b[39m\u001b[38;5;241m=\u001b[39m len_axis \u001b[38;5;129;01mor\u001b[39;00m key \u001b[38;5;241m<\u001b[39m \u001b[38;5;241m-\u001b[39mlen_axis:\n\u001b[1;32m-> 1589\u001b[0m     \u001b[38;5;28;01mraise\u001b[39;00m \u001b[38;5;167;01mIndexError\u001b[39;00m(\u001b[38;5;124m\"\u001b[39m\u001b[38;5;124msingle positional indexer is out-of-bounds\u001b[39m\u001b[38;5;124m\"\u001b[39m)\n",
      "\u001b[1;31mIndexError\u001b[0m: single positional indexer is out-of-bounds"
     ]
    }
   ],
   "source": [
    "# Filter Sci-Fi movies\n",
    "sci_fi_movies = popular_movies[popular_movies['title'].str.contains('Sci-Fi')]\n",
    "third_most_popular_sci_fi = sci_fi_movies.sort_values(by='count', ascending=False).iloc[2]\n",
    "print(f'Third most popular Sci-Fi movie: {third_most_popular_sci_fi[\"title\"]}')\n"
   ]
  },
  {
   "cell_type": "code",
   "execution_count": 13,
   "id": "55e5cb6a",
   "metadata": {},
   "outputs": [
    {
     "ename": "AttributeError",
     "evalue": "'NoneType' object has no attribute 'text'",
     "output_type": "error",
     "traceback": [
      "\u001b[1;31m---------------------------------------------------------------------------\u001b[0m",
      "\u001b[1;31mAttributeError\u001b[0m                            Traceback (most recent call last)",
      "Cell \u001b[1;32mIn [13], line 12\u001b[0m\n\u001b[0;32m      9\u001b[0m     rating \u001b[38;5;241m=\u001b[39m soup\u001b[38;5;241m.\u001b[39mfind(\u001b[38;5;124m'\u001b[39m\u001b[38;5;124mspan\u001b[39m\u001b[38;5;124m'\u001b[39m, itemprop\u001b[38;5;241m=\u001b[39m\u001b[38;5;124m'\u001b[39m\u001b[38;5;124mratingValue\u001b[39m\u001b[38;5;124m'\u001b[39m)\u001b[38;5;241m.\u001b[39mtext\n\u001b[0;32m     10\u001b[0m     \u001b[38;5;28;01mreturn\u001b[39;00m \u001b[38;5;28mfloat\u001b[39m(rating)\n\u001b[1;32m---> 12\u001b[0m popular_movies[\u001b[38;5;124m'\u001b[39m\u001b[38;5;124mimdb_rating\u001b[39m\u001b[38;5;124m'\u001b[39m] \u001b[38;5;241m=\u001b[39m \u001b[43mpopular_movies\u001b[49m\u001b[43m[\u001b[49m\u001b[38;5;124;43m'\u001b[39;49m\u001b[38;5;124;43mmovieId\u001b[39;49m\u001b[38;5;124;43m'\u001b[39;49m\u001b[43m]\u001b[49m\u001b[38;5;241;43m.\u001b[39;49m\u001b[43mapply\u001b[49m\u001b[43m(\u001b[49m\u001b[43mget_imdb_rating\u001b[49m\u001b[43m)\u001b[49m\n\u001b[0;32m     14\u001b[0m \u001b[38;5;66;03m# MovieId of the movie with the highest IMDB rating\u001b[39;00m\n\u001b[0;32m     15\u001b[0m highest_imdb_movie_id \u001b[38;5;241m=\u001b[39m popular_movies[popular_movies[\u001b[38;5;124m'\u001b[39m\u001b[38;5;124mimdb_rating\u001b[39m\u001b[38;5;124m'\u001b[39m] \u001b[38;5;241m==\u001b[39m popular_movies[\u001b[38;5;124m'\u001b[39m\u001b[38;5;124mimdb_rating\u001b[39m\u001b[38;5;124m'\u001b[39m]\u001b[38;5;241m.\u001b[39mmax()][\u001b[38;5;124m'\u001b[39m\u001b[38;5;124mmovieId\u001b[39m\u001b[38;5;124m'\u001b[39m]\u001b[38;5;241m.\u001b[39mvalues[\u001b[38;5;241m0\u001b[39m]\n",
      "File \u001b[1;32m~\\AppData\\Local\\Programs\\Python\\Python310\\lib\\site-packages\\pandas\\core\\series.py:4631\u001b[0m, in \u001b[0;36mSeries.apply\u001b[1;34m(self, func, convert_dtype, args, **kwargs)\u001b[0m\n\u001b[0;32m   4521\u001b[0m \u001b[38;5;28;01mdef\u001b[39;00m \u001b[38;5;21mapply\u001b[39m(\n\u001b[0;32m   4522\u001b[0m     \u001b[38;5;28mself\u001b[39m,\n\u001b[0;32m   4523\u001b[0m     func: AggFuncType,\n\u001b[1;32m   (...)\u001b[0m\n\u001b[0;32m   4526\u001b[0m     \u001b[38;5;241m*\u001b[39m\u001b[38;5;241m*\u001b[39mkwargs,\n\u001b[0;32m   4527\u001b[0m ) \u001b[38;5;241m-\u001b[39m\u001b[38;5;241m>\u001b[39m DataFrame \u001b[38;5;241m|\u001b[39m Series:\n\u001b[0;32m   4528\u001b[0m \u001b[38;5;250m    \u001b[39m\u001b[38;5;124;03m\"\"\"\u001b[39;00m\n\u001b[0;32m   4529\u001b[0m \u001b[38;5;124;03m    Invoke function on values of Series.\u001b[39;00m\n\u001b[0;32m   4530\u001b[0m \n\u001b[1;32m   (...)\u001b[0m\n\u001b[0;32m   4629\u001b[0m \u001b[38;5;124;03m    dtype: float64\u001b[39;00m\n\u001b[0;32m   4630\u001b[0m \u001b[38;5;124;03m    \"\"\"\u001b[39;00m\n\u001b[1;32m-> 4631\u001b[0m     \u001b[38;5;28;01mreturn\u001b[39;00m \u001b[43mSeriesApply\u001b[49m\u001b[43m(\u001b[49m\u001b[38;5;28;43mself\u001b[39;49m\u001b[43m,\u001b[49m\u001b[43m \u001b[49m\u001b[43mfunc\u001b[49m\u001b[43m,\u001b[49m\u001b[43m \u001b[49m\u001b[43mconvert_dtype\u001b[49m\u001b[43m,\u001b[49m\u001b[43m \u001b[49m\u001b[43margs\u001b[49m\u001b[43m,\u001b[49m\u001b[43m \u001b[49m\u001b[43mkwargs\u001b[49m\u001b[43m)\u001b[49m\u001b[38;5;241;43m.\u001b[39;49m\u001b[43mapply\u001b[49m\u001b[43m(\u001b[49m\u001b[43m)\u001b[49m\n",
      "File \u001b[1;32m~\\AppData\\Local\\Programs\\Python\\Python310\\lib\\site-packages\\pandas\\core\\apply.py:1025\u001b[0m, in \u001b[0;36mSeriesApply.apply\u001b[1;34m(self)\u001b[0m\n\u001b[0;32m   1022\u001b[0m     \u001b[38;5;28;01mreturn\u001b[39;00m \u001b[38;5;28mself\u001b[39m\u001b[38;5;241m.\u001b[39mapply_str()\n\u001b[0;32m   1024\u001b[0m \u001b[38;5;66;03m# self.f is Callable\u001b[39;00m\n\u001b[1;32m-> 1025\u001b[0m \u001b[38;5;28;01mreturn\u001b[39;00m \u001b[38;5;28;43mself\u001b[39;49m\u001b[38;5;241;43m.\u001b[39;49m\u001b[43mapply_standard\u001b[49m\u001b[43m(\u001b[49m\u001b[43m)\u001b[49m\n",
      "File \u001b[1;32m~\\AppData\\Local\\Programs\\Python\\Python310\\lib\\site-packages\\pandas\\core\\apply.py:1076\u001b[0m, in \u001b[0;36mSeriesApply.apply_standard\u001b[1;34m(self)\u001b[0m\n\u001b[0;32m   1074\u001b[0m     \u001b[38;5;28;01melse\u001b[39;00m:\n\u001b[0;32m   1075\u001b[0m         values \u001b[38;5;241m=\u001b[39m obj\u001b[38;5;241m.\u001b[39mastype(\u001b[38;5;28mobject\u001b[39m)\u001b[38;5;241m.\u001b[39m_values\n\u001b[1;32m-> 1076\u001b[0m         mapped \u001b[38;5;241m=\u001b[39m \u001b[43mlib\u001b[49m\u001b[38;5;241;43m.\u001b[39;49m\u001b[43mmap_infer\u001b[49m\u001b[43m(\u001b[49m\n\u001b[0;32m   1077\u001b[0m \u001b[43m            \u001b[49m\u001b[43mvalues\u001b[49m\u001b[43m,\u001b[49m\n\u001b[0;32m   1078\u001b[0m \u001b[43m            \u001b[49m\u001b[43mf\u001b[49m\u001b[43m,\u001b[49m\n\u001b[0;32m   1079\u001b[0m \u001b[43m            \u001b[49m\u001b[43mconvert\u001b[49m\u001b[38;5;241;43m=\u001b[39;49m\u001b[38;5;28;43mself\u001b[39;49m\u001b[38;5;241;43m.\u001b[39;49m\u001b[43mconvert_dtype\u001b[49m\u001b[43m,\u001b[49m\n\u001b[0;32m   1080\u001b[0m \u001b[43m        \u001b[49m\u001b[43m)\u001b[49m\n\u001b[0;32m   1082\u001b[0m \u001b[38;5;28;01mif\u001b[39;00m \u001b[38;5;28mlen\u001b[39m(mapped) \u001b[38;5;129;01mand\u001b[39;00m \u001b[38;5;28misinstance\u001b[39m(mapped[\u001b[38;5;241m0\u001b[39m], ABCSeries):\n\u001b[0;32m   1083\u001b[0m     \u001b[38;5;66;03m# GH#43986 Need to do list(mapped) in order to get treated as nested\u001b[39;00m\n\u001b[0;32m   1084\u001b[0m     \u001b[38;5;66;03m#  See also GH#25959 regarding EA support\u001b[39;00m\n\u001b[0;32m   1085\u001b[0m     \u001b[38;5;28;01mreturn\u001b[39;00m obj\u001b[38;5;241m.\u001b[39m_constructor_expanddim(\u001b[38;5;28mlist\u001b[39m(mapped), index\u001b[38;5;241m=\u001b[39mobj\u001b[38;5;241m.\u001b[39mindex)\n",
      "File \u001b[1;32m~\\AppData\\Local\\Programs\\Python\\Python310\\lib\\site-packages\\pandas\\_libs\\lib.pyx:2834\u001b[0m, in \u001b[0;36mpandas._libs.lib.map_infer\u001b[1;34m()\u001b[0m\n",
      "Cell \u001b[1;32mIn [13], line 9\u001b[0m, in \u001b[0;36mget_imdb_rating\u001b[1;34m(movie_id)\u001b[0m\n\u001b[0;32m      7\u001b[0m response \u001b[38;5;241m=\u001b[39m requests\u001b[38;5;241m.\u001b[39mget(url)\n\u001b[0;32m      8\u001b[0m soup \u001b[38;5;241m=\u001b[39m BeautifulSoup(response\u001b[38;5;241m.\u001b[39mtext, \u001b[38;5;124m'\u001b[39m\u001b[38;5;124mhtml.parser\u001b[39m\u001b[38;5;124m'\u001b[39m)\n\u001b[1;32m----> 9\u001b[0m rating \u001b[38;5;241m=\u001b[39m \u001b[43msoup\u001b[49m\u001b[38;5;241;43m.\u001b[39;49m\u001b[43mfind\u001b[49m\u001b[43m(\u001b[49m\u001b[38;5;124;43m'\u001b[39;49m\u001b[38;5;124;43mspan\u001b[39;49m\u001b[38;5;124;43m'\u001b[39;49m\u001b[43m,\u001b[49m\u001b[43m \u001b[49m\u001b[43mitemprop\u001b[49m\u001b[38;5;241;43m=\u001b[39;49m\u001b[38;5;124;43m'\u001b[39;49m\u001b[38;5;124;43mratingValue\u001b[39;49m\u001b[38;5;124;43m'\u001b[39;49m\u001b[43m)\u001b[49m\u001b[38;5;241;43m.\u001b[39;49m\u001b[43mtext\u001b[49m\n\u001b[0;32m     10\u001b[0m \u001b[38;5;28;01mreturn\u001b[39;00m \u001b[38;5;28mfloat\u001b[39m(rating)\n",
      "\u001b[1;31mAttributeError\u001b[0m: 'NoneType' object has no attribute 'text'"
     ]
    }
   ],
   "source": [
    "import requests\n",
    "from bs4 import BeautifulSoup\n",
    "\n",
    "def get_imdb_rating(movie_id):\n",
    "    imdb_id = links[links['movieId'] == movie_id]['imdbId'].values[0]\n",
    "    url = f'https://www.imdb.com/title/tt{imdb_id:07d}/'\n",
    "    response = requests.get(url)\n",
    "    soup = BeautifulSoup(response.text, 'html.parser')\n",
    "    rating = soup.find('span', itemprop='ratingValue').text\n",
    "    return float(rating)\n",
    "\n",
    "popular_movies['imdb_rating'] = popular_movies['movieId'].apply(get_imdb_rating)\n",
    "\n",
    "# MovieId of the movie with the highest IMDB rating\n",
    "highest_imdb_movie_id = popular_movies[popular_movies['imdb_rating'] == popular_movies['imdb_rating'].max()]['movieId'].values[0]\n",
    "print(f'MovieId of the movie with the highest IMDB rating: {highest_imdb_movie_id}')\n"
   ]
  },
  {
   "cell_type": "code",
   "execution_count": 1,
   "id": "f085da40",
   "metadata": {},
   "outputs": [],
   "source": [
    "import pandas as pd\n",
    "\n",
    "# Load the datasets\n",
    "movies_df = pd.read_csv('movies.csv')\n",
    "links_df = pd.read_csv('links.csv')\n",
    "\n",
    "# Merge movies and links datasets\n",
    "movies_links_df = pd.merge(movies_df, links_df, on='movieId')\n"
   ]
  },
  {
   "cell_type": "code",
   "execution_count": null,
   "id": "919bff3e",
   "metadata": {},
   "outputs": [],
   "source": []
  },
  {
   "cell_type": "code",
   "execution_count": null,
   "id": "376eb8b1",
   "metadata": {},
   "outputs": [],
   "source": [
    "import requests\n",
    "\n",
    "def get_imdb_rating(imdb_id):\n",
    "    url = f\"http://www.omdbapi.com/?i=tt{imdb_id}&apikey=118c4513\"  # Replace 'your_api_key' with your OMDB API key\n",
    "    response = requests.get(url)\n",
    "    data = response.json()\n",
    "    if 'imdbRating' in data:\n",
    "        return float(data['imdbRating'])\n",
    "    else:\n",
    "        return None\n",
    "\n",
    "# Add IMDb ratings to the dataframe\n",
    "movies_links_df['imdbRating'] = movies_links_df['imdbId'].apply(lambda x: get_imdb_rating(str(x).zfill(7)))\n",
    "\n",
    "# Drop movies without IMDb ratings\n",
    "movies_links_df.dropna(subset=['imdbRating'], inplace=True)\n"
   ]
  },
  {
   "cell_type": "code",
   "execution_count": null,
   "id": "012a26e2",
   "metadata": {},
   "outputs": [],
   "source": []
  },
  {
   "cell_type": "code",
   "execution_count": null,
   "id": "78ae2191",
   "metadata": {},
   "outputs": [],
   "source": [
    "# Filter Sci-Fi movies\n",
    "sci_fi_movies_df = movies_links_df[movies_links_df['genres'].str.contains('Sci-Fi', case=False)]\n",
    "\n",
    "# Identify the movie with the highest IMDb rating\n",
    "highest_rated_movie = movies_links_df.loc[movies_links_df['imdbRating'].idxmax()]\n",
    "\n",
    "# Identify the Sci-Fi movie with the highest IMDb rating\n",
    "highest_rated_sci_fi_movie = sci_fi_movies_df.loc[sci_fi_movies_df['imdbRating'].idxmax()]\n",
    "\n",
    "# Display the results\n",
    "highest_rated_movie_id = highest_rated_movie['movieId']\n",
    "highest_rated_sci_fi_movie_id = highest_rated_sci_fi_movie['movieId']\n",
    "\n",
    "print(f\"The movie with the highest IMDb rating has movieId: {highest_rated_movie_id}\")\n",
    "print(f\"The Sci-Fi movie with the highest IMDb rating has movieId: {highest_rated_sci_fi_movie_id}\")\n"
   ]
  },
  {
   "cell_type": "code",
   "execution_count": 1,
   "id": "3f3de4c6",
   "metadata": {},
   "outputs": [
    {
     "name": "stdout",
     "output_type": "stream",
     "text": [
      "Number of movies with more than 50 ratings: 436\n"
     ]
    }
   ],
   "source": [
    "import pandas as pd\n",
    "\n",
    "# Load the datasets\n",
    "movies_df = pd.read_csv('movies.csv')\n",
    "ratings_df = pd.read_csv('ratings.csv')\n",
    "links_df = pd.read_csv('links.csv')\n",
    "\n",
    "# Group by movieId and calculate the number of ratings\n",
    "ratings_grouped = ratings_df.groupby('movieId').agg({'rating': ['count', 'mean']}).reset_index()\n",
    "ratings_grouped.columns = ['movieId', 'rating_count', 'rating_mean']\n",
    "\n",
    "# Filter movies with more than 50 ratings\n",
    "filtered_movies_df = ratings_grouped[ratings_grouped['rating_count'] > 50]\n",
    "\n",
    "# Merge with movies and links data\n",
    "filtered_movies_df = filtered_movies_df.merge(movies_df, on='movieId')\n",
    "filtered_movies_df = filtered_movies_df.merge(links_df, on='movieId')\n",
    "\n",
    "print(f\"Number of movies with more than 50 ratings: {len(filtered_movies_df)}\")\n"
   ]
  }
 ],
 "metadata": {
  "kernelspec": {
   "display_name": "Python 3 (ipykernel)",
   "language": "python",
   "name": "python3"
  },
  "language_info": {
   "codemirror_mode": {
    "name": "ipython",
    "version": 3
   },
   "file_extension": ".py",
   "mimetype": "text/x-python",
   "name": "python",
   "nbconvert_exporter": "python",
   "pygments_lexer": "ipython3",
   "version": "3.10.5"
  }
 },
 "nbformat": 4,
 "nbformat_minor": 5
}
